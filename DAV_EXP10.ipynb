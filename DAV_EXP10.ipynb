{
  "nbformat": 4,
  "nbformat_minor": 0,
  "metadata": {
    "colab": {
      "provenance": [],
      "authorship_tag": "ABX9TyMeDF7cqlePamdO/pclDVes",
      "include_colab_link": true
    },
    "kernelspec": {
      "name": "python3",
      "display_name": "Python 3"
    },
    "language_info": {
      "name": "python"
    }
  },
  "cells": [
    {
      "cell_type": "markdown",
      "metadata": {
        "id": "view-in-github",
        "colab_type": "text"
      },
      "source": [
        "<a href=\"https://colab.research.google.com/github/vedantrk/DAV-SEM6/blob/main/DAV_EXP10.ipynb\" target=\"_parent\"><img src=\"https://colab.research.google.com/assets/colab-badge.svg\" alt=\"Open In Colab\"/></a>"
      ]
    },
    {
      "cell_type": "markdown",
      "source": [
        "EXPERIMENT-10"
      ],
      "metadata": {
        "id": "5v2Bet39fsYB"
      }
    },
    {
      "cell_type": "code",
      "source": [
        "%%html\n",
        "<!DOCTYPE html>\n",
        "<html lang=\"en\">\n",
        "<head>\n",
        "  <meta charset=\"UTF-8\">\n",
        "  <meta name=\"viewport\" content=\"width=device-width, initial-scale=1.0\">\n",
        "  <title>D3.js Event Handling</title>\n",
        "  <script src=\"https://d3js.org/d3.v5.min.js\"></script>\n",
        "</head>\n",
        "<body>\n",
        "  <h2>Click the circle</h2>\n",
        "  <svg width=\"200\" height=\"200\">\n",
        "    <!-- Changed the circle's fill color to red -->\n",
        "    <circle cx=\"100\" cy=\"100\" r=\"50\" fill=\"red\"></circle>\n",
        "  </svg>\n",
        "\n",
        "  <script>\n",
        "    const circle = d3.select(\"circle\");\n",
        "\n",
        "    // Modified event listener for click event\n",
        "    circle.on(\"click\", function() {\n",
        "      // Change the circle's fill color to green instead of orange\n",
        "      d3.select(this)\n",
        "        .transition()\n",
        "        .attr(\"fill\", \"blue\");\n",
        "    });\n",
        "  </script>\n",
        "</body>\n",
        "</html>\n"
      ],
      "metadata": {
        "id": "td89Iltjfw5h",
        "colab": {
          "base_uri": "https://localhost:8080/",
          "height": 269
        },
        "outputId": "dcfc3459-17b8-4fce-d698-6c877f943ef8"
      },
      "execution_count": 3,
      "outputs": [
        {
          "output_type": "display_data",
          "data": {
            "text/plain": [
              "<IPython.core.display.HTML object>"
            ],
            "text/html": [
              "<!DOCTYPE html>\n",
              "<html lang=\"en\">\n",
              "<head>\n",
              "  <meta charset=\"UTF-8\">\n",
              "  <meta name=\"viewport\" content=\"width=device-width, initial-scale=1.0\">\n",
              "  <title>D3.js Event Handling</title>\n",
              "  <script src=\"https://d3js.org/d3.v5.min.js\"></script>\n",
              "</head>\n",
              "<body>\n",
              "  <h2>Click the circle</h2>\n",
              "  <svg width=\"200\" height=\"200\">\n",
              "    <!-- Changed the circle's fill color to red -->\n",
              "    <circle cx=\"100\" cy=\"100\" r=\"50\" fill=\"red\"></circle>\n",
              "  </svg>\n",
              "\n",
              "  <script>\n",
              "    const circle = d3.select(\"circle\");\n",
              "\n",
              "    // Modified event listener for click event\n",
              "    circle.on(\"click\", function() {\n",
              "      // Change the circle's fill color to green instead of orange\n",
              "      d3.select(this)\n",
              "        .transition()\n",
              "        .attr(\"fill\", \"blue\");\n",
              "    });\n",
              "  </script>\n",
              "</body>\n",
              "</html>\n"
            ]
          },
          "metadata": {}
        }
      ]
    }
  ]
}